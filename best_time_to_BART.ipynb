{
 "cells": [
  {
   "cell_type": "markdown",
   "metadata": {},
   "source": [
    "## When is the best time of day to ride BART?\n",
    "\n",
    "Riders with flexible commutes can time their commutes to ride BART at the most convenient time\n",
    "\n",
    "Factors that influence how good of a time it is:\n",
    "- how close is the time to the rider's ideal commute time?\n",
    "- how crowded are the train cars?\n",
    "- how frequent are the trains?\n",
    "- how crowded are the stations?\n",
    "- how much crime is there typically at that time?\n",
    "\n",
    "That differ between riders:\n",
    "- what are this rider's priorities between the above factors?\n",
    "- where is this rider commuting from and to?\n",
    "- \n",
    "\n",
    "### Prior art\n",
    "- https://medium.com/@ALLrambles/a-guide-to-riding-bart-for-people-who-hate-crowds-ecdb6df12fa7\n",
    "- https://www.kaggle.com/jonathanbouchet/bart-transit-system/data\n",
    "\n",
    "### Exploring data sources\n",
    "- monthly reports (https://www.bart.gov/about/reports/ridership) aren't helpful because they don't include time of day (example: https://docs.google.com/spreadsheets/d/1EYyXRwhvgq9vaQeequK7b5gQahnQq0QwSkfvvo5VQ8w/edit#gid=1814715031)\n",
    "- seems like the only real option is the daily reports: http://64.111.127.166/origin-destination/\n",
    "- seems like the API is the best source re: when trains come and how long they are: https://api.bart.gov/docs/overview/index.aspx\n",
    "    - AFAICT only the real-time departures API includes train length i.e. \"length\": https://api.bart.gov/docs/etd/etd.aspx\n",
    "    - looks like there's no way to get past or future data\n",
    "    - the schedule API provides info for the whole day but doesn't include car length: https://api.bart.gov/docs/sched/index.aspx. Looks like I'd want to use:\n",
    "        - route schedule: https://api.bart.gov/docs/sched/routesched.aspx or\n",
    "        - station schedule: https://api.bart.gov/docs/sched/stnsched.aspx\n",
    "\n",
    "### Starting analysis\n",
    "#### Ridership per hour on weekdays"
   ]
  },
  {
   "cell_type": "code",
   "execution_count": 1,
   "metadata": {},
   "outputs": [],
   "source": [
    "import matplotlib.pyplot as plt\n",
    "import pandas as pd\n",
    "\n",
    "five_days = pd.read_csv('processed_data/five_days.csv')\n",
    "five_days['Day'] = pd.to_datetime(five_days['Day'])"
   ]
  },
  {
   "cell_type": "code",
   "execution_count": 2,
   "metadata": {},
   "outputs": [
    {
     "data": {
      "image/png": "[encoded data removed]",
      "text/plain": [
       "<Figure size 432x288 with 1 Axes>"
      ]
     },
     "metadata": {
      "needs_background": "light"
     },
     "output_type": "display_data"
    }
   ],
   "source": [
    "hours = range(24)\n",
    "\n",
    "weekdays_data = five_days[five_days['Day'].dt.dayofweek < 5]\n",
    "\n",
    "number_of_days = len(weekdays_data.drop_duplicates(subset='Day'))\n",
    "\n",
    "dfs_by_hour = [weekdays_data[weekdays_data['Hour'] == hour] for hour in hours]\n",
    "\n",
    "riders_per_hour = [df_by_hour[\"Trip Count\"].sum() for df_by_hour in dfs_by_hour]\n",
    "\n",
    "riders_per_hour_per_day = [riders/number_of_days for riders in riders_per_hour]\n",
    "\n",
    "plt.bar(hours, riders_per_hour_per_day)\n",
    "plt.show()"
   ]
  },
  {
   "cell_type": "markdown",
   "metadata": {},
   "source": [
    "TODO:\n",
    "- better axis labels\n",
    "    - what exactly do the buckets in the data even refer to?\n",
    "    \n",
    "#### Approx trains per hour through Embarcadero\n",
    "\n",
    "Very handwavy. Major problems:\n",
    "- is Embarcadero what we care about the most? I guess all East Bay <> SF trains go through, so that's a good proxy for something\n",
    "- times are when the train leaves its starting station (I think), not when it goes through Embarcadero\n",
    "- don't know number of cars per train, need real-time data for that"
   ]
  },
  {
   "cell_type": "code",
   "execution_count": 3,
   "metadata": {},
   "outputs": [
    {
     "data": {
      "image/png": "[encoded data removed]",
      "text/plain": [
       "<Figure size 432x288 with 1 Axes>"
      ]
     },
     "metadata": {
      "needs_background": "light"
     },
     "output_type": "display_data"
    }
   ],
   "source": [
    "weekday_trains_through_embr = pd.read_csv('processed_data/08-11-2019-embr-sched.csv')\n",
    "weekday_trains_through_embr['@origTime'] = pd.to_datetime(weekday_trains_through_embr['@origTime'])\n",
    "\n",
    "trains_by_hours = [weekday_trains_through_embr[weekday_trains_through_embr['@origTime'].dt.hour == hour] for hour in hours]\n",
    "trains_per_hour = [len(trains_by_hour) for trains_by_hour in trains_by_hours]\n",
    "plt.bar(hours, trains_per_hour)\n",
    "plt.show()"
   ]
  },
  {
   "cell_type": "markdown",
   "metadata": {},
   "source": [
    "#### Approx riders per train per hour through embr\n",
    "\n",
    "Rather exciting because it's actually an approximation of the thing I want: riders per car\n",
    "\n",
    "Major problems not covered above:\n",
    "- pretty sure that the data are off from each other by an hour, which makes things a bit weird"
   ]
  },
  {
   "cell_type": "code",
   "execution_count": 4,
   "metadata": {},
   "outputs": [
    {
     "name": "stderr",
     "output_type": "stream",
     "text": [
      "/Users/brachbach/.local/share/virtualenvs/BART_analysis-DmraOYr2/lib/python3.7/site-packages/ipykernel_launcher.py:1: RuntimeWarning: divide by zero encountered in double_scalars\n",
      "  \"\"\"Entry point for launching an IPython kernel.\n"
     ]
    },
    {
     "data": {
      "image/png": "[encoded data removed]",
      "text/plain": [
       "<Figure size 432x288 with 1 Axes>"
      ]
     },
     "metadata": {
      "needs_background": "light"
     },
     "output_type": "display_data"
    }
   ],
   "source": [
    "riders_per_train_per_hour = [riders/trains_per_hour[i] for (i,riders) in enumerate(riders_per_hour_per_day)]\n",
    "plt.bar(hours, riders_per_train_per_hour)\n",
    "plt.show()"
   ]
  },
  {
   "cell_type": "markdown",
   "metadata": {},
   "source": [
    "Features that could eventually be cool:\n",
    "- you give your preferences, app tells you when would be best for you to commute\n",
    "- interactive graphs -- you specify where you're going from/to, everything adjusts to that\n",
    "- "
   ]
  },
  {
   "cell_type": "code",
   "execution_count": null,
   "metadata": {},
   "outputs": [],
   "source": []
  }
 ],
 "metadata": {
  "kernelspec": {
   "display_name": "Python 3",
   "language": "python",
   "name": "python3"
  },
  "language_info": {
   "codemirror_mode": {
    "name": "ipython",
    "version": 3
   },
   "file_extension": ".py",
   "mimetype": "text/x-python",
   "name": "python",
   "nbconvert_exporter": "python",
   "pygments_lexer": "ipython3",
   "version": "3.7.4"
  }
 },
 "nbformat": 4,
 "nbformat_minor": 4
}
